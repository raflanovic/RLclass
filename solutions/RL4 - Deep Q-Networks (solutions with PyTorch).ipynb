{
 "cells": [
  {
   "cell_type": "markdown",
   "metadata": {},
   "source": [
    "**Class 4: Deep Q Networks.**\n",
    "\n",
    "1. <a href=\"#sec1\">Environments</a>\n",
    "    1. <a href=\"#sec1.1\">Cartpole</a>\n",
    "    2. <a href=\"#sec1.2\">Cartpole swing-up</a>\n",
    "    3. <a href=\"#sec1.3\">Pong</a>\n",
    "2. <a href=\"#sec2\">Value Iteration as a sequence of Supervized Learning problems</a>\n",
    "3. <a href=\"#sec3\">Experience Replay</a>\n",
    "4. <a href=\"#sec4\">A deep Q-network</a>\n",
    "5. <a href=\"#sec5\">Making DQN more efficient</a>\n",
    "    1. <a href=\"#sec5.1\">Target network</a>\n",
    "    2. <a href=\"#sec5.2\">Error clipping</a>\n",
    "6. <a href=\"#sec6\">DQN on image-based tasks</a>\n",
    "7. <a href=\"#sec7\">Going further</a>\n",
    "\n",
    "Let's start with this quote:\n",
    "\n",
    "> The idea that we learn by interacting with our environment is probably the first to occur to us when we think about the nature of learning. When an infant plays, waves its arms, or looks about, it has no explicit teacher, but it does have a direct sensorimotor connection to its environment. Exercising this connection produces a wealth of information about cause and effect, about the consequences of actions, and about what to do in order to achieve goals. Throughout our lives, such interactions are undoubtedly a major source of knowledge about our environment and ourselves. Whether we are learning to drive a car or to hold a conversation, we are acutely aware of how our environment responds to what we do, and we seek to influence what happens through our behavior. Learning from interaction is a foundational idea underlying nearly all theories of learning and intelligence. (Richard S. Sutton)"
   ]
  },
  {
   "cell_type": "markdown",
   "metadata": {},
   "source": [
    "# <a id=sec1></a> Environments\n",
    "\n",
    "In this session, we will work with three different environments:\n",
    "- CartPole\n",
    "- A modified version of CartPole\n",
    "- Pong"
   ]
  },
  {
   "cell_type": "code",
   "execution_count": 1,
   "metadata": {},
   "outputs": [],
   "source": [
    "import gym\n",
    "from gym import logger\n",
    "import numpy as np\n",
    "%matplotlib inline\n",
    "import matplotlib.pyplot as plt\n",
    "logger.set_level(gym.logger.DISABLED)"
   ]
  },
  {
   "cell_type": "markdown",
   "metadata": {},
   "source": [
    "## <a id=sec1.1></a>CartPole"
   ]
  },
  {
   "cell_type": "code",
   "execution_count": 4,
   "metadata": {},
   "outputs": [],
   "source": [
    "cartpole = gym.make('CartPole-v1')"
   ]
  },
  {
   "cell_type": "markdown",
   "metadata": {},
   "source": [
    "From the [OpenAI Gym website](https://gym.openai.com/envs/CartPole-v0/)\n",
    "\n",
    "> A pole is attached by an un-actuated joint to a cart, which moves along a frictionless track. The system is controlled by applying a force of +1 or -1 to the cart. The pendulum starts upright, and the goal is to prevent it from falling over. A reward of +1 is provided for every timestep that the pole remains upright. The episode ends when the pole is more than 15 degrees from vertical, or the cart moves more than 2.4 units from the center."
   ]
  },
  {
   "cell_type": "markdown",
   "metadata": {},
   "source": [
    "The cartpole is represented by a state $s = (x, \\dot{x}, \\theta, \\dot{\\theta})$ with :\n",
    "  - $x$ the position of the cartpole along the x-axis\n",
    "  - $\\theta$ the angle of the pole"
   ]
  },
  {
   "cell_type": "code",
   "execution_count": 3,
   "metadata": {},
   "outputs": [
    {
     "name": "stdout",
     "output_type": "stream",
     "text": [
      "Discrete(2)\n",
      "Box(4,)\n",
      "{'render.modes': ['human', 'rgb_array'], 'video.frames_per_second': 50}\n"
     ]
    }
   ],
   "source": [
    "print(cartpole.action_space)\n",
    "print(cartpole.observation_space)\n",
    "print(cartpole.env.metadata)"
   ]
  },
  {
   "cell_type": "code",
   "execution_count": 4,
   "metadata": {},
   "outputs": [
    {
     "name": "stdout",
     "output_type": "stream",
     "text": [
      "17\n"
     ]
    }
   ],
   "source": [
    "x = cartpole.reset()\n",
    "cartpole.render()\n",
    "for i in range(1000):\n",
    "    _, _, d, _ = cartpole.step(np.random.randint(2))\n",
    "    cartpole.render()\n",
    "    if d:\n",
    "        print(i)\n",
    "        break\n",
    "\n",
    "cartpole.close()"
   ]
  },
  {
   "cell_type": "markdown",
   "metadata": {},
   "source": [
    "## <a id=sec1.2></a>CartPole Swing-up\n",
    "\n",
    "The idea here is to keep the same environment, but instead of learning how to stabilize it around the unstable equilibrium point, we'd like to learn to swing it up. Here are the changes:\n",
    "- `reset` now puts the pole pointing down. The initial state is $(0,0,\\pi,0)$ plus a vector of four uniformly random values in [-0.05,0.05].\n",
    "- `step` now returns `done=True` when the cart leaves the $x\\in [-2.4,2.4]$ interval or when the pole swings faster than $4\\pi$ radians per second.\n",
    "- the reward is still +1 for keeping the pole within 12 degrees of the vertical, it is 0 for all other time steps and -10 for swinging too fast or exiting the screen."
   ]
  },
  {
   "cell_type": "code",
   "execution_count": 5,
   "metadata": {},
   "outputs": [],
   "source": [
    "class CartPoleSwingUp(gym.Wrapper):\n",
    "    def __init__(self, env, **kwargs):\n",
    "        super(CartPoleSwingUp, self).__init__(env, **kwargs)\n",
    "        self.theta_dot_threshold = 4*np.pi\n",
    "\n",
    "    def reset(self):\n",
    "        self.env.env.state = [0, 0, np.pi, 0] + super().reset()\n",
    "        #self.state = [0,0,np.pi,0] + self.np_random.uniform(low=-0.05, high=0.05, size=(4,))\n",
    "        self.env.env.steps_beyond_done = None\n",
    "        return np.array(self.env.env.state)\n",
    "\n",
    "    def step(self, action):\n",
    "        state, reward, done, _ = super().step(action)\n",
    "        #self.state = state\n",
    "        x, x_dot, theta, theta_dot = state\n",
    "        \n",
    "        done = x < -self.x_threshold \\\n",
    "               or x > self.x_threshold \\\n",
    "               or theta_dot < -self.theta_dot_threshold \\\n",
    "               or theta_dot > self.theta_dot_threshold\n",
    "        \n",
    "        if done:\n",
    "            # game over\n",
    "            reward = -10.\n",
    "            if self.steps_beyond_done is None:\n",
    "                self.steps_beyond_done = 0\n",
    "            else:\n",
    "                logger.warn(\"You are calling 'step()' even though this environment has already returned done = True. You should always call 'reset()' once you receive 'done = True' -- any further steps are undefined behavior.\")\n",
    "                self.steps_beyond_done += 1\n",
    "        else:\n",
    "            if theta < -self.theta_threshold_radians or theta > self.theta_threshold_radians:\n",
    "                # pole upright\n",
    "                reward = 1.\n",
    "            else:\n",
    "                # pole swinging\n",
    "                reward = 0.\n",
    "\n",
    "        return np.array(self.state), reward, done, {}"
   ]
  },
  {
   "cell_type": "code",
   "execution_count": 6,
   "metadata": {},
   "outputs": [],
   "source": [
    "swingup = CartPoleSwingUp(gym.make('CartPole-v1'))"
   ]
  },
  {
   "cell_type": "code",
   "execution_count": 7,
   "metadata": {
    "scrolled": true
   },
   "outputs": [
    {
     "name": "stdout",
     "output_type": "stream",
     "text": [
      "318\n"
     ]
    }
   ],
   "source": [
    "x = swingup.reset()\n",
    "swingup.render()\n",
    "\n",
    "for i in range(1000):\n",
    "    _, _, d, _ = swingup.step(np.random.randint(2))\n",
    "    swingup.render()\n",
    "    if d:\n",
    "        print(i)\n",
    "        break\n",
    "\n",
    "swingup.close()"
   ]
  },
  {
   "cell_type": "markdown",
   "metadata": {},
   "source": [
    "## <a id=sec1.3></a>Pong\n",
    "\n",
    "Let's build an agent that learns to play Pong, one of the [Atari games](https://github.com/openai/gym/blob/master/gym/envs/atari/atari_env.py) in Gym (originally in the [Arcade Learning Environment](https://github.com/mgbellemare/Arcade-Learning-Environment)). You might want to try different games later on (like the popular Breakout game for instance)."
   ]
  },
  {
   "cell_type": "code",
   "execution_count": 8,
   "metadata": {},
   "outputs": [],
   "source": [
    "pong = gym.make('Pong-v4')"
   ]
  },
  {
   "cell_type": "markdown",
   "metadata": {},
   "source": [
    "Here is the environment's description.\n",
    "> Maximize your score in the Atari 2600 game Pong. In this environment, the observation is an RGB image of the screen, which is an array of shape (210, 160, 3). Each action is repeatedly performed for a duration of k frames, where k is uniformly sampled from $\\{2, 3, 4\\}$."
   ]
  },
  {
   "cell_type": "code",
   "execution_count": 9,
   "metadata": {},
   "outputs": [
    {
     "name": "stdout",
     "output_type": "stream",
     "text": [
      "Box(210, 160, 3)\n",
      "(210, 160, 3)\n",
      "0\n",
      "255\n",
      "Discrete(6)\n"
     ]
    }
   ],
   "source": [
    "print(pong.observation_space)\n",
    "print(pong.observation_space.shape)\n",
    "print(np.min(pong.observation_space.low))\n",
    "print(np.max(pong.observation_space.high))\n",
    "print(pong.action_space)\n",
    "#help(env.observation_space)"
   ]
  },
  {
   "cell_type": "code",
   "execution_count": 10,
   "metadata": {},
   "outputs": [
    {
     "data": {
      "image/png": "[encoded data removed]",
      "text/plain": [
       "<Figure size 432x288 with 1 Axes>"
      ]
     },
     "metadata": {
      "needs_background": "light"
     },
     "output_type": "display_data"
    }
   ],
   "source": [
    "x = pong.reset()\n",
    "plt.imshow(x)\n",
    "plt.show()"
   ]
  },
  {
   "cell_type": "markdown",
   "metadata": {},
   "source": [
    "<div class=\"alert alert-warning\">\n",
    "\n",
    "**Exercice:** What is the number of possible states? Why is this not an MDP? What would one need to turn this back into an MDP?\n",
    "</div>"
   ]
  },
  {
   "cell_type": "markdown",
   "metadata": {},
   "source": [
    "<div class=\"alert alert-danger\">\n",
    "    <a href=\"#Pong-theory\" data-toggle=\"collapse\"><b>Answers:</b></a><br>\n",
    "<div id=\"Pong-theory\" class=\"collapse\">\n",
    "\n",
    "One frame is a $210\\times 160$ RGB image with a 256 color palette, so the set of all possible frames has size $256^{210 \\times 160 \\times 3} \\sim 10^{242579}$. That's a little too many for an efficient enumeration. Of course, most of the possible images will never occur in a Breakout game and the true state space is actually a much smaller subset of the full set of possible images. Nevertheless, unless we provide a large engineering effort in describing the state space with few variables (which would be contradictory of our goal of a \"human-level\" AI) we will need to automatically discover some structure in the state sampled data.\n",
    "\n",
    "This is not an MDP because the transition dynamics do not respect Markov's property. The probability of transitioning from $s_t$ to $s_{t+1}$ is *not* independent of previous states. The problem here is that a single frame of the game does not reflect the velocity of the ball.\n",
    "\n",
    "To recover Markov's property one could simply stack a few frames together in the state space.\n",
    "</div>\n",
    "</div>"
   ]
  },
  {
   "cell_type": "markdown",
   "metadata": {},
   "source": [
    "There are 18 buttons on the Atari controller. However not all games use all buttons. Our interface to Pong specifies 6 possible actions:\n",
    "- 0 NOOP (no operation)\n",
    "- 1 FIRE (press fire button, doesn't do anything in Pong)\n",
    "- 2 RIGHT (actually moves the paddle up in Pong)\n",
    "- 3 LEFT (actually moves the paddle left in Pong)\n",
    "- 4 UP (moves the paddle upwards)\n",
    "- 5 DOWN (moves the paddle downwards)\n",
    "\n",
    "It goes up to the 6th action for naming consistency (UP and DOWN), because the other actions are not really useful.\n",
    "\n",
    "Also, for an unknown reason, the game does not start until the 20th frame (but always starts automatically, pressing FIRE does not change anything).\n",
    "\n",
    "The frame rate is 60Hz.\n",
    "\n",
    "To avoid confusion between the 6 actions allowed by Gym, let's build a wrapper around our environment, with only 2 possible actions (\"0\" for UP and \"1\" for DOWN) and a downscaled observation space. Unless you're curious and want to dig in the code, you can simply run the following cells and just use the resulting environment."
   ]
  },
  {
   "cell_type": "code",
   "execution_count": 11,
   "metadata": {},
   "outputs": [],
   "source": [
    "from gym.wrappers import AtariPreprocessing\n",
    "import cv2\n",
    "\n",
    "class PongWrapper(AtariPreprocessing):\n",
    "    def __init__(self, env, **kwargs):\n",
    "        super(PongWrapper, self).__init__(env, **kwargs)\n",
    "\n",
    "    def step(self, action):\n",
    "        return super(PongWrapper, self).step(4 + action)\n",
    "\n",
    "    def _get_obs(self):\n",
    "        if self.frame_skip > 1:  # more efficient in-place pooling\n",
    "            np.maximum(self.obs_buffer[0], self.obs_buffer[1], out=self.obs_buffer[0])\n",
    "        obs = cv2.resize(self.obs_buffer[0], (84, 110), interpolation=cv2.INTER_AREA)[17:101,:]\n",
    "\n",
    "        if self.scale_obs:\n",
    "            obs = np.asarray(obs, dtype=np.float32) / 255.0\n",
    "        else:\n",
    "            obs = np.asarray(obs, dtype=np.uint8)\n",
    "        return obs"
   ]
  },
  {
   "cell_type": "code",
   "execution_count": 12,
   "metadata": {},
   "outputs": [],
   "source": [
    "pong = PongWrapper(gym.make('PongNoFrameskip-v4'),\n",
    "                   noop_max=0,\n",
    "                   frame_skip=4,\n",
    "                   terminal_on_life_loss=True,\n",
    "                   grayscale_obs=True,\n",
    "                   scale_obs=True)"
   ]
  },
  {
   "cell_type": "code",
   "execution_count": 13,
   "metadata": {},
   "outputs": [
    {
     "name": "stdout",
     "output_type": "stream",
     "text": [
      "shape: (84, 84), min = 0.34117648, max = 0.9137255, dtype = float32\n"
     ]
    },
    {
     "data": {
      "image/png": "[encoded data removed]",
      "text/plain": [
       "<Figure size 432x288 with 1 Axes>"
      ]
     },
     "metadata": {
      "needs_background": "light"
     },
     "output_type": "display_data"
    }
   ],
   "source": [
    "# Trying a random agent in Pong\n",
    "import time\n",
    "\n",
    "pong.reset()\n",
    "pong.render()\n",
    "for i in range(60):\n",
    "    a = np.random.randint(2)\n",
    "    x, r, _, _ = pong.step(a)\n",
    "    pong.render()\n",
    "    #print('\\r', \"reward\", r, end=\"\")\n",
    "    time.sleep(0.1)\n",
    "    \n",
    "pong.close()\n",
    "print(\"shape: \", x.shape, \", min = \", x.min(), \", max = \", x.max(), \", dtype = \", x.dtype, sep='')\n",
    "plt.imshow(x, cmap='gray');"
   ]
  },
  {
   "cell_type": "markdown",
   "metadata": {},
   "source": [
    "# <a id=sec2></a>Value Iteration as a sequence of Supervized Learning problems\n",
    "\n",
    "<div class=\"alert alert-warning\">\n",
    "\n",
    "**Exercice:** start from the Value Iteration update and write $Q_{n+1}$ as a regression problem with parameters $\\theta_{n+1}$. Specify the loss function minimized for this regression problem.\n",
    "</div>"
   ]
  },
  {
   "cell_type": "markdown",
   "metadata": {},
   "source": [
    "<div class=\"alert alert-danger\">\n",
    "    <a href=\"#ValueIteration\" data-toggle=\"collapse\"><b>Answers:</b></a><br>\n",
    "<div id=\"ValueIteration\" class=\"collapse\">\n",
    "\n",
    "Let's start over from the beginning. We want to find:\n",
    "$$\\pi^*(s) = \\arg\\max_{\\pi} \\mathbb{E}_{\\left(r_t\\right)_{t\\in \\mathbb{N}}} \\left[ \\sum_{t=0}^\\infty \\gamma^t r_t \\ \\Big| \\ s, \\pi \\right], \\ \\forall s\\in S.$$\n",
    "\n",
    "We have seen this was equivalent to finding the optimal value function $Q^*$:\n",
    "$$Q^*(s,a) = \\max_{\\pi} \\mathbb{E}_{\\left(r_t\\right)_{t\\in \\mathbb{N}}} \\left[ \\sum_{t=0}^\\infty \\gamma^t r_t \\ \\Big| \\  s,a, \\pi \\right], \\ \\forall (s,a) \\in S\\times A.$$\n",
    "\n",
    "And we have established that $Q^*$ was the only solution to Bellman's optimality equation:\n",
    "$$Q(s,a) = \\mathbb{E}_{s' \\sim p(\\cdot|s,a)} \\left[r(s,a,s') + \\gamma \\max_{a'} Q(s',a')\\right].$$\n",
    "\n",
    "By writing $T^*$ Bellman's optimality operator, we have, by definition:\n",
    "$$(T^*Q)(s,a) = \\mathbb{E}_{s' \\sim p(\\cdot|s,a)} \\left[r(s,a,s') + \\gamma \\max_{a'} Q(s',a')\\right].$$\n",
    "\n",
    "And thus, $Q^*$ is the only solution to $Q=T^*Q$.\n",
    "\n",
    "It appears $T^*$ is a contraction mapping on the $\\mathcal{F}(S\\times A,\\mathbb{R})$ space. Value Iteration exploits this property to build the sequence $Q_{n+1} = T^*Q_n$ which converges to $Q^*$.\n",
    "\n",
    "Let's now suppose that $Q_n$ is a function approximator, whose parameters are $\\theta_n$. We shall write $Q_n(s,a) = Q(s,a;\\theta_n)$. Then building $\\theta_{n+1}$ knowing $\\theta_n$ is the regression problem that minimizes the loss:\n",
    "\\begin{gather}\n",
    "L_n(\\theta) = \\left\\| y_n(s,a) - Q(s,a;\\theta) \\right\\|,\\\\\n",
    "\\textrm{with } y_n(s,a) = \\mathbb{E}_{s' \\sim p(\\cdot|s,a)} \\left[r(s,a,s') + \\gamma \\max_{a'} Q(s',a',\\theta_{n})\\right].\n",
    "\\end{gather}\n",
    "\n",
    "If this loss can be optimized and goes to zero, then we have found the true $Q_{n+1}$. If not, then we have found an approximation of it in the norm used to define $L_n$.\n",
    "\n",
    "</div>\n",
    "</div>"
   ]
  },
  {
   "cell_type": "markdown",
   "metadata": {},
   "source": [
    "<div class=\"alert alert-warning\">\n",
    "\n",
    "**Exercice:** use the L2 norm in the loss of the regression problem above, then write the gradient of the loss with respect to the regressor's parameters. Use this to introduce a stochastic gradient descent method to find $\\theta_{n+1}$.\n",
    "</div>"
   ]
  },
  {
   "cell_type": "markdown",
   "metadata": {},
   "source": [
    "<div class=\"alert alert-danger\">\n",
    "    <a href=\"#VILoss\" data-toggle=\"collapse\"><b>Answers:</b></a><br>\n",
    "<div id=\"VILoss\" class=\"collapse\">\n",
    "\n",
    "Our loss becomes:\n",
    "\\begin{gather}\n",
    "L_n(\\theta) = \\frac{1}{2} \\mathbb{E}_{(s,a) \\sim \\rho(\\cdot)}\\left[ \\big( y_n(s,a) - Q(s,a;\\theta) \\big)^2 \\right],\\\\\n",
    "\\textrm{with } y_n(s,a) = \\mathbb{E}_{s' \\sim p(\\cdot|s,a)} \\left[r(s,a,s') + \\gamma \\max_{a'} Q(s',a',\\theta_{n})\\right].\n",
    "\\end{gather}\n",
    "\n",
    "In the expression above, $\\rho$ is a distribution over the state-action space. Often, it is considered to be the behavior distribution, that is the distribution of samples under the current behavior policy, like $\\epsilon$-greedy. Note that this choice is debatable.\n",
    "\n",
    "So the gradient of this loss is:\n",
    "\\begin{gather}\n",
    "\\nabla_\\theta L_n(\\theta) = \\mathbb{E}_{(s,a) \\sim \\rho(\\cdot)}\\left[ \\big( y_n(s,a) - Q(s,a;\\theta) \\big) \\nabla_\\theta Q(s,a;\\theta) \\right]\\\\\n",
    "\\textrm{with } y_n(s,a) = \\mathbb{E}_{s' \\sim p(\\cdot|s,a)} \\left[r(s,a,s') + \\gamma \\max_{a'} Q(s',a',\\theta_{n})\\right].\n",
    "\\end{gather}\n",
    "\n",
    "And when we wrap all this together:\n",
    "$$\\nabla_\\theta L_n(\\theta) = \\mathbb{E}_{(s,a) \\sim \\rho(\\cdot)}\\left[ \\left( \\mathbb{E}_{s' \\sim p(\\cdot|s,a)} \\left[r(s,a,s') + \\gamma \\max_{a'} Q(s',a',\\theta_{n})\\right] - Q(s,a;\\theta) \\right) \\nabla_\\theta Q(s,a;\\theta) \\right]$$\n",
    "\n",
    "$$\\nabla_\\theta L_n(\\theta) = \\mathbb{E}_{\\substack{(s,a) \\sim \\rho(\\cdot)\\\\ s' \\sim p(\\cdot|s,a)}}\\left[ \\left( r(s,a,s') + \\gamma \\max_{a'} Q(s',a',\\theta_{n}) - Q(s,a;\\theta) \\right) \\nabla_\\theta Q(s,a;\\theta) \\right]$$\n",
    "\n",
    "Rather than computing the full expectations in the above gradient, it is often computationally expedient to optimise the loss function by stochastic gradient descent. Then the stochastic estimate of the gradient is given by:\n",
    "$$\\nabla_\\theta L_n(\\theta) \\approx d_n(\\theta) = \\sum_{i=1}^B \\left[ \\left( r_i + \\gamma \\max_{a'} Q(s_i',a',\\theta_{n}) - Q(s_i,a_i;\\theta) \\right) \\nabla_\\theta Q(s_i,a_i;\\theta) \\right],$$\n",
    "where $\\left\\{ \\left(s_i,a_i,r_i,s'_i\\right) \\right\\}_{i\\in {1,B}}$ is a mini-batch of samples drawn independently, with $(s,a) \\sim \\rho(\\cdot)$ and $s' \\sim p(\\cdot | s,a)$.\n",
    "\n",
    "The stochastic gradient descent procedure builds a sequence of parameter values $\\theta_i$ such that:\n",
    "$$\\theta_{i+1} \\leftarrow \\theta_{i} - \\alpha d_n(\\theta_{i})$$\n",
    "\n",
    "By repeating such gradient steps, one progressively minimizes $L_n(\\theta)$ and finds $\\theta_{n+1}$.\n",
    "\n",
    "</div>\n",
    "</div>"
   ]
  },
  {
   "cell_type": "markdown",
   "metadata": {},
   "source": [
    "**Important remark:**\n",
    "\n",
    "In the update above, if the mini-batch contains a single element, the 1-sample update is precisely that of Q-learning! Then, in Q-learning, the new loss $L_{n+1}$ is defined and the process is repeated. Consequently, there is a new loss function at each time step.\n",
    "\n",
    "<div class=\"alert alert-warning\">\n",
    "\n",
    "**Exercice:** can you spot the (subtle but essential) difference with Q-learning?\n",
    "</div>"
   ]
  },
  {
   "cell_type": "markdown",
   "metadata": {},
   "source": [
    "<div class=\"alert alert-danger\">\n",
    "    <a href=\"#DifferenceQL\" data-toggle=\"collapse\"><b>Answers:</b></a><br>\n",
    "<div id=\"DifferenceQL\" class=\"collapse\">\n",
    "\n",
    "Recall Q-learning. The update was indeed the same, except that at any time step the mini-batch's single element was not sampled independently from the previous minibatch! Indeed, $s'$ from the previous time step becomes $s$ for the current time step. So the successive mini-batches' elements are not drawn iid.\n",
    "\n",
    "That's a key difference that questions the foundation of Q-learning in itself.\n",
    "</div>\n",
    "</div>"
   ]
  },
  {
   "cell_type": "markdown",
   "metadata": {},
   "source": [
    "# <a id=sec3></a>Experience Replay\n",
    "\n",
    "To recover the independence assumption between samples, we can introduce the mechanism of [*Experience Replay*](http://www.incompleteideas.net/lin-92.pdf) by storing past samples into a *Replay Memory*. When samples a required for a mini-batch gradient update, the samples are collected uniformly from the replay memory, thus mimicking an (almost) independent draw according to $\\rho(\\cdot)$."
   ]
  },
  {
   "cell_type": "markdown",
   "metadata": {},
   "source": [
    "<div class=\"alert alert-warning\">\n",
    "    \n",
    "**Exercice:** design a class for the replay memory of the cart-pole example(s). Limit the size of this memory (via a FIFO mechanism) to $10^6$ samples (adapt this number to your computer's RAM). Test it by running a random policy for $2\\cdot 10^6$ time steps.\n",
    "</div>"
   ]
  },
  {
   "cell_type": "code",
   "execution_count": 2,
   "metadata": {},
   "outputs": [],
   "source": [
    "# YOUR REPLAY BUFFER CODE\n",
    "\n",
    "# Note that the following line might be enough for small replay buffers\n",
    "\n",
    "from collections import deque, namedtuple\n",
    "Transition = namedtuple('Transition', \n",
    "                        ('state', 'action', 'reward', 'next_state', 'done'))\n",
    "memory = deque(maxlen=int(1e6))\n",
    "\n",
    "# But for the sake of the exercise, we will wrap this in a dedicated class.\n",
    "\n",
    "import random\n",
    "\n",
    "class ReplayBuffer(object):\n",
    "    def __init__(self, capacity):\n",
    "        self.memory = deque(maxlen=capacity)\n",
    "    def append(self, state, action, reward, next_state, done):\n",
    "        self.memory.append((state, action, reward, next_state, done))\n",
    "    def sample(self, batch_size):\n",
    "        return random.sample(self.memory, batch_size)\n",
    "    def __len__(self):\n",
    "        return len(self.memory)\n",
    "    def capacity(self):\n",
    "        return self.memory.maxlen"
   ]
  },
  {
   "cell_type": "code",
   "execution_count": 5,
   "metadata": {},
   "outputs": [
    {
     "name": "stderr",
     "output_type": "stream",
     "text": [
      " 20%|█▉        | 391243/2000000 [00:04<00:18, 85252.10it/s]\n"
     ]
    },
    {
     "ename": "KeyboardInterrupt",
     "evalue": "",
     "output_type": "error",
     "traceback": [
      "\u001b[0;31m---------------------------------------------------------------------------\u001b[0m",
      "\u001b[0;31mKeyboardInterrupt\u001b[0m                         Traceback (most recent call last)",
      "\u001b[0;32m<ipython-input-5-30ade8272c68>\u001b[0m in \u001b[0;36m<module>\u001b[0;34m\u001b[0m\n\u001b[1;32m      8\u001b[0m \u001b[0;32mfor\u001b[0m \u001b[0m_\u001b[0m \u001b[0;32min\u001b[0m \u001b[0mtrange\u001b[0m\u001b[0;34m(\u001b[0m\u001b[0mnb_samples\u001b[0m\u001b[0;34m)\u001b[0m\u001b[0;34m:\u001b[0m\u001b[0;34m\u001b[0m\u001b[0;34m\u001b[0m\u001b[0m\n\u001b[1;32m      9\u001b[0m     \u001b[0maction\u001b[0m \u001b[0;34m=\u001b[0m \u001b[0mcartpole\u001b[0m\u001b[0;34m.\u001b[0m\u001b[0maction_space\u001b[0m\u001b[0;34m.\u001b[0m\u001b[0msample\u001b[0m\u001b[0;34m(\u001b[0m\u001b[0;34m)\u001b[0m\u001b[0;34m\u001b[0m\u001b[0;34m\u001b[0m\u001b[0m\n\u001b[0;32m---> 10\u001b[0;31m     \u001b[0mnext_state\u001b[0m\u001b[0;34m,\u001b[0m \u001b[0mreward\u001b[0m\u001b[0;34m,\u001b[0m \u001b[0mdone\u001b[0m\u001b[0;34m,\u001b[0m \u001b[0m_\u001b[0m \u001b[0;34m=\u001b[0m \u001b[0mcartpole\u001b[0m\u001b[0;34m.\u001b[0m\u001b[0mstep\u001b[0m\u001b[0;34m(\u001b[0m\u001b[0maction\u001b[0m\u001b[0;34m)\u001b[0m\u001b[0;34m\u001b[0m\u001b[0;34m\u001b[0m\u001b[0m\n\u001b[0m\u001b[1;32m     11\u001b[0m     \u001b[0mmemory\u001b[0m\u001b[0;34m.\u001b[0m\u001b[0mappend\u001b[0m\u001b[0;34m(\u001b[0m\u001b[0mstate\u001b[0m\u001b[0;34m,\u001b[0m \u001b[0maction\u001b[0m\u001b[0;34m,\u001b[0m \u001b[0mreward\u001b[0m\u001b[0;34m,\u001b[0m \u001b[0mnext_state\u001b[0m\u001b[0;34m,\u001b[0m \u001b[0mdone\u001b[0m\u001b[0;34m)\u001b[0m\u001b[0;34m\u001b[0m\u001b[0;34m\u001b[0m\u001b[0m\n\u001b[1;32m     12\u001b[0m     \u001b[0;32mif\u001b[0m \u001b[0mdone\u001b[0m\u001b[0;34m:\u001b[0m\u001b[0;34m\u001b[0m\u001b[0;34m\u001b[0m\u001b[0m\n",
      "\u001b[0;32m~/anaconda3/lib/python3.7/site-packages/gym/wrappers/time_limit.py\u001b[0m in \u001b[0;36mstep\u001b[0;34m(self, action)\u001b[0m\n\u001b[1;32m     14\u001b[0m     \u001b[0;32mdef\u001b[0m \u001b[0mstep\u001b[0m\u001b[0;34m(\u001b[0m\u001b[0mself\u001b[0m\u001b[0;34m,\u001b[0m \u001b[0maction\u001b[0m\u001b[0;34m)\u001b[0m\u001b[0;34m:\u001b[0m\u001b[0;34m\u001b[0m\u001b[0;34m\u001b[0m\u001b[0m\n\u001b[1;32m     15\u001b[0m         \u001b[0;32massert\u001b[0m \u001b[0mself\u001b[0m\u001b[0;34m.\u001b[0m\u001b[0m_elapsed_steps\u001b[0m \u001b[0;32mis\u001b[0m \u001b[0;32mnot\u001b[0m \u001b[0;32mNone\u001b[0m\u001b[0;34m,\u001b[0m \u001b[0;34m\"Cannot call env.step() before calling reset()\"\u001b[0m\u001b[0;34m\u001b[0m\u001b[0;34m\u001b[0m\u001b[0m\n\u001b[0;32m---> 16\u001b[0;31m         \u001b[0mobservation\u001b[0m\u001b[0;34m,\u001b[0m \u001b[0mreward\u001b[0m\u001b[0;34m,\u001b[0m \u001b[0mdone\u001b[0m\u001b[0;34m,\u001b[0m \u001b[0minfo\u001b[0m \u001b[0;34m=\u001b[0m \u001b[0mself\u001b[0m\u001b[0;34m.\u001b[0m\u001b[0menv\u001b[0m\u001b[0;34m.\u001b[0m\u001b[0mstep\u001b[0m\u001b[0;34m(\u001b[0m\u001b[0maction\u001b[0m\u001b[0;34m)\u001b[0m\u001b[0;34m\u001b[0m\u001b[0;34m\u001b[0m\u001b[0m\n\u001b[0m\u001b[1;32m     17\u001b[0m         \u001b[0mself\u001b[0m\u001b[0;34m.\u001b[0m\u001b[0m_elapsed_steps\u001b[0m \u001b[0;34m+=\u001b[0m \u001b[0;36m1\u001b[0m\u001b[0;34m\u001b[0m\u001b[0;34m\u001b[0m\u001b[0m\n\u001b[1;32m     18\u001b[0m         \u001b[0;32mif\u001b[0m \u001b[0mself\u001b[0m\u001b[0;34m.\u001b[0m\u001b[0m_elapsed_steps\u001b[0m \u001b[0;34m>=\u001b[0m \u001b[0mself\u001b[0m\u001b[0;34m.\u001b[0m\u001b[0m_max_episode_steps\u001b[0m\u001b[0;34m:\u001b[0m\u001b[0;34m\u001b[0m\u001b[0;34m\u001b[0m\u001b[0m\n",
      "\u001b[0;32m~/anaconda3/lib/python3.7/site-packages/gym/envs/classic_control/cartpole.py\u001b[0m in \u001b[0;36mstep\u001b[0;34m(self, action)\u001b[0m\n\u001b[1;32m    128\u001b[0m             \u001b[0mreward\u001b[0m \u001b[0;34m=\u001b[0m \u001b[0;36m0.0\u001b[0m\u001b[0;34m\u001b[0m\u001b[0;34m\u001b[0m\u001b[0m\n\u001b[1;32m    129\u001b[0m \u001b[0;34m\u001b[0m\u001b[0m\n\u001b[0;32m--> 130\u001b[0;31m         \u001b[0;32mreturn\u001b[0m \u001b[0mnp\u001b[0m\u001b[0;34m.\u001b[0m\u001b[0marray\u001b[0m\u001b[0;34m(\u001b[0m\u001b[0mself\u001b[0m\u001b[0;34m.\u001b[0m\u001b[0mstate\u001b[0m\u001b[0;34m)\u001b[0m\u001b[0;34m,\u001b[0m \u001b[0mreward\u001b[0m\u001b[0;34m,\u001b[0m \u001b[0mdone\u001b[0m\u001b[0;34m,\u001b[0m \u001b[0;34m{\u001b[0m\u001b[0;34m}\u001b[0m\u001b[0;34m\u001b[0m\u001b[0;34m\u001b[0m\u001b[0m\n\u001b[0m\u001b[1;32m    131\u001b[0m \u001b[0;34m\u001b[0m\u001b[0m\n\u001b[1;32m    132\u001b[0m     \u001b[0;32mdef\u001b[0m \u001b[0mreset\u001b[0m\u001b[0;34m(\u001b[0m\u001b[0mself\u001b[0m\u001b[0;34m)\u001b[0m\u001b[0;34m:\u001b[0m\u001b[0;34m\u001b[0m\u001b[0;34m\u001b[0m\u001b[0m\n",
      "\u001b[0;31mKeyboardInterrupt\u001b[0m: "
     ]
    }
   ],
   "source": [
    "# Testing insertion in the ReplayBuffer class\n",
    "from tqdm import trange\n",
    "replay_buffer_size = int(1e6)\n",
    "nb_samples = int(2e6)\n",
    "\n",
    "memory = ReplayBuffer(replay_buffer_size)\n",
    "state = cartpole.reset()\n",
    "for _ in trange(nb_samples):\n",
    "    action = cartpole.action_space.sample()\n",
    "    next_state, reward, done, _ = cartpole.step(action)\n",
    "    memory.append(state, action, reward, next_state, done)\n",
    "    if done:\n",
    "        state = cartpole.reset()\n",
    "    else:\n",
    "        state = next_state\n",
    "\n",
    "print(len(memory))"
   ]
  },
  {
   "cell_type": "code",
   "execution_count": 16,
   "metadata": {},
   "outputs": [
    {
     "name": "stderr",
     "output_type": "stream",
     "text": [
      "100%|██████████| 10000/10000 [00:38<00:00, 258.18it/s]\n"
     ]
    }
   ],
   "source": [
    "nb_batches = int(1e4)\n",
    "batch_size = 50\n",
    "\n",
    "# Testing sampling in the ReplayBuffer class\n",
    "import random\n",
    "\n",
    "for _ in trange(nb_batches):\n",
    "    batch = memory.sample(batch_size)"
   ]
  },
  {
   "cell_type": "code",
   "execution_count": 17,
   "metadata": {},
   "outputs": [
    {
     "name": "stdout",
     "output_type": "stream",
     "text": [
      "[(array([ 0.11573128,  0.59828604, -0.12086689, -0.93200406]), 0, 1.0, array([ 0.127697  ,  0.40498411, -0.13950697, -0.67961492]), False), (array([-0.04048054,  0.18728156, -0.05249727, -0.37937371]), 1, 1.0, array([-0.03673491,  0.38310819, -0.06008475, -0.6881361 ]), False)]\n"
     ]
    }
   ],
   "source": [
    "print(memory.sample(2))"
   ]
  },
  {
   "cell_type": "markdown",
   "metadata": {},
   "source": [
    "<div class=\"alert alert-warning\">\n",
    "    \n",
    "**Know your data structures!**\n",
    "\n",
    "Taking the time to think about what makes a good replay buffer may save you hours of puzzled head-banging. It is important to know what you expect from your replay buffer to choose the right data structure.\n",
    "\n",
    "Common mistake: we need a fixed sized memory, that works like a FIFO structure, so let's pick a deque. That sounds fair, deques (in Python) have a fixed maximum size and constant time insertion at the beginning and the end. BUT they also have $O(n)$ access time which means that for large replay buffers, sampling a minibatch may take forever.\n",
    "\n",
    "Here, what we really need is a fixed-size FIFO, with $O(1)$ insertion at the end and $O(1)$ access.\n",
    "\n",
    "The class above is efficient enough for our current needs but keeping this caveat in mind might avoid future headaches.\n",
    "</div>"
   ]
  },
  {
   "cell_type": "markdown",
   "metadata": {},
   "source": [
    "# <a id=sec4></a>A deep Q-network\n",
    "\n",
    "The term Deep Q-Network was coined by the (now historical) paper **[Playing Atari with Deep Reinforcement Learning](https://arxiv.org/abs/1312.5602)** by Mnih et al. (2013) that put forward the main ideas we develop here. All those were later popularized by DeepMind's paper in Nature **[Human-level control through deep reinforcement learning](https://deepmind.com/research/publications/human-level-control-through-deep-reinforcement-learning)** by Mnih et al. (2015).\n",
    "\n",
    "Let's design a (deep) neural network that will serve as a function approximator for $Q(s,a;\\theta)$. \n",
    "\n",
    "<img src=\"images/dqlas.png\" height=\"15%\" width=\"15%\"></img>\n",
    "\n",
    "Note that since we're going to have to compute $\\max_a Q(s,a)$ it is preferable to avoid running as many passes through the network as there are actions. Therefore, instead of the network structure above, we will prefer to use the one below.\n",
    "\n",
    "<img src=\"images/dqls.png\" height=\"30%\" width=\"30%\"></img>\n",
    "\n",
    "<div class=\"alert alert-warning\">\n",
    "    \n",
    "**Exercice:** declare a neural network for our Q function. For the CartPole task, you can use a simple network with 2 hidden layers and 16 neurons on each layer. For the SwingUp task, go up to 50 neurons per layer. For Pong... well wait a minute, we'll get to it later.\n",
    "</div>"
   ]
  },
  {
   "cell_type": "code",
   "execution_count": 10,
   "metadata": {},
   "outputs": [
    {
     "ename": "RuntimeError",
     "evalue": "CUDA error: all CUDA-capable devices are busy or unavailable",
     "output_type": "error",
     "traceback": [
      "\u001b[0;31m---------------------------------------------------------------------------\u001b[0m",
      "\u001b[0;31mRuntimeError\u001b[0m                              Traceback (most recent call last)",
      "\u001b[0;32m<ipython-input-10-534d96127a88>\u001b[0m in \u001b[0;36m<module>\u001b[0;34m\u001b[0m\n\u001b[1;32m     15\u001b[0m                           \u001b[0mnn\u001b[0m\u001b[0;34m.\u001b[0m\u001b[0mLinear\u001b[0m\u001b[0;34m(\u001b[0m\u001b[0mnb_neurons\u001b[0m\u001b[0;34m,\u001b[0m \u001b[0mnb_neurons\u001b[0m\u001b[0;34m)\u001b[0m\u001b[0;34m,\u001b[0m\u001b[0;34m\u001b[0m\u001b[0;34m\u001b[0m\u001b[0m\n\u001b[1;32m     16\u001b[0m                           \u001b[0mnn\u001b[0m\u001b[0;34m.\u001b[0m\u001b[0mReLU\u001b[0m\u001b[0;34m(\u001b[0m\u001b[0;34m)\u001b[0m\u001b[0;34m,\u001b[0m\u001b[0;34m\u001b[0m\u001b[0;34m\u001b[0m\u001b[0m\n\u001b[0;32m---> 17\u001b[0;31m                           nn.Linear(nb_neurons, n_action)).to(device)\n\u001b[0m",
      "\u001b[0;32m~/anaconda3/lib/python3.7/site-packages/torch/nn/modules/module.py\u001b[0m in \u001b[0;36mto\u001b[0;34m(self, *args, **kwargs)\u001b[0m\n\u001b[1;32m    430\u001b[0m             \u001b[0;32mreturn\u001b[0m \u001b[0mt\u001b[0m\u001b[0;34m.\u001b[0m\u001b[0mto\u001b[0m\u001b[0;34m(\u001b[0m\u001b[0mdevice\u001b[0m\u001b[0;34m,\u001b[0m \u001b[0mdtype\u001b[0m \u001b[0;32mif\u001b[0m \u001b[0mt\u001b[0m\u001b[0;34m.\u001b[0m\u001b[0mis_floating_point\u001b[0m\u001b[0;34m(\u001b[0m\u001b[0;34m)\u001b[0m \u001b[0;32melse\u001b[0m \u001b[0;32mNone\u001b[0m\u001b[0;34m,\u001b[0m \u001b[0mnon_blocking\u001b[0m\u001b[0;34m)\u001b[0m\u001b[0;34m\u001b[0m\u001b[0;34m\u001b[0m\u001b[0m\n\u001b[1;32m    431\u001b[0m \u001b[0;34m\u001b[0m\u001b[0m\n\u001b[0;32m--> 432\u001b[0;31m         \u001b[0;32mreturn\u001b[0m \u001b[0mself\u001b[0m\u001b[0;34m.\u001b[0m\u001b[0m_apply\u001b[0m\u001b[0;34m(\u001b[0m\u001b[0mconvert\u001b[0m\u001b[0;34m)\u001b[0m\u001b[0;34m\u001b[0m\u001b[0;34m\u001b[0m\u001b[0m\n\u001b[0m\u001b[1;32m    433\u001b[0m \u001b[0;34m\u001b[0m\u001b[0m\n\u001b[1;32m    434\u001b[0m     \u001b[0;32mdef\u001b[0m \u001b[0mregister_backward_hook\u001b[0m\u001b[0;34m(\u001b[0m\u001b[0mself\u001b[0m\u001b[0;34m,\u001b[0m \u001b[0mhook\u001b[0m\u001b[0;34m)\u001b[0m\u001b[0;34m:\u001b[0m\u001b[0;34m\u001b[0m\u001b[0;34m\u001b[0m\u001b[0m\n",
      "\u001b[0;32m~/anaconda3/lib/python3.7/site-packages/torch/nn/modules/module.py\u001b[0m in \u001b[0;36m_apply\u001b[0;34m(self, fn)\u001b[0m\n\u001b[1;32m    206\u001b[0m     \u001b[0;32mdef\u001b[0m \u001b[0m_apply\u001b[0m\u001b[0;34m(\u001b[0m\u001b[0mself\u001b[0m\u001b[0;34m,\u001b[0m \u001b[0mfn\u001b[0m\u001b[0;34m)\u001b[0m\u001b[0;34m:\u001b[0m\u001b[0;34m\u001b[0m\u001b[0;34m\u001b[0m\u001b[0m\n\u001b[1;32m    207\u001b[0m         \u001b[0;32mfor\u001b[0m \u001b[0mmodule\u001b[0m \u001b[0;32min\u001b[0m \u001b[0mself\u001b[0m\u001b[0;34m.\u001b[0m\u001b[0mchildren\u001b[0m\u001b[0;34m(\u001b[0m\u001b[0;34m)\u001b[0m\u001b[0;34m:\u001b[0m\u001b[0;34m\u001b[0m\u001b[0;34m\u001b[0m\u001b[0m\n\u001b[0;32m--> 208\u001b[0;31m             \u001b[0mmodule\u001b[0m\u001b[0;34m.\u001b[0m\u001b[0m_apply\u001b[0m\u001b[0;34m(\u001b[0m\u001b[0mfn\u001b[0m\u001b[0;34m)\u001b[0m\u001b[0;34m\u001b[0m\u001b[0;34m\u001b[0m\u001b[0m\n\u001b[0m\u001b[1;32m    209\u001b[0m \u001b[0;34m\u001b[0m\u001b[0m\n\u001b[1;32m    210\u001b[0m         \u001b[0;32mdef\u001b[0m \u001b[0mcompute_should_use_set_data\u001b[0m\u001b[0;34m(\u001b[0m\u001b[0mtensor\u001b[0m\u001b[0;34m,\u001b[0m \u001b[0mtensor_applied\u001b[0m\u001b[0;34m)\u001b[0m\u001b[0;34m:\u001b[0m\u001b[0;34m\u001b[0m\u001b[0;34m\u001b[0m\u001b[0m\n",
      "\u001b[0;32m~/anaconda3/lib/python3.7/site-packages/torch/nn/modules/module.py\u001b[0m in \u001b[0;36m_apply\u001b[0;34m(self, fn)\u001b[0m\n\u001b[1;32m    228\u001b[0m                 \u001b[0;31m# `with torch.no_grad():`\u001b[0m\u001b[0;34m\u001b[0m\u001b[0;34m\u001b[0m\u001b[0;34m\u001b[0m\u001b[0m\n\u001b[1;32m    229\u001b[0m                 \u001b[0;32mwith\u001b[0m \u001b[0mtorch\u001b[0m\u001b[0;34m.\u001b[0m\u001b[0mno_grad\u001b[0m\u001b[0;34m(\u001b[0m\u001b[0;34m)\u001b[0m\u001b[0;34m:\u001b[0m\u001b[0;34m\u001b[0m\u001b[0;34m\u001b[0m\u001b[0m\n\u001b[0;32m--> 230\u001b[0;31m                     \u001b[0mparam_applied\u001b[0m \u001b[0;34m=\u001b[0m \u001b[0mfn\u001b[0m\u001b[0;34m(\u001b[0m\u001b[0mparam\u001b[0m\u001b[0;34m)\u001b[0m\u001b[0;34m\u001b[0m\u001b[0;34m\u001b[0m\u001b[0m\n\u001b[0m\u001b[1;32m    231\u001b[0m                 \u001b[0mshould_use_set_data\u001b[0m \u001b[0;34m=\u001b[0m \u001b[0mcompute_should_use_set_data\u001b[0m\u001b[0;34m(\u001b[0m\u001b[0mparam\u001b[0m\u001b[0;34m,\u001b[0m \u001b[0mparam_applied\u001b[0m\u001b[0;34m)\u001b[0m\u001b[0;34m\u001b[0m\u001b[0;34m\u001b[0m\u001b[0m\n\u001b[1;32m    232\u001b[0m                 \u001b[0;32mif\u001b[0m \u001b[0mshould_use_set_data\u001b[0m\u001b[0;34m:\u001b[0m\u001b[0;34m\u001b[0m\u001b[0;34m\u001b[0m\u001b[0m\n",
      "\u001b[0;32m~/anaconda3/lib/python3.7/site-packages/torch/nn/modules/module.py\u001b[0m in \u001b[0;36mconvert\u001b[0;34m(t)\u001b[0m\n\u001b[1;32m    428\u001b[0m \u001b[0;34m\u001b[0m\u001b[0m\n\u001b[1;32m    429\u001b[0m         \u001b[0;32mdef\u001b[0m \u001b[0mconvert\u001b[0m\u001b[0;34m(\u001b[0m\u001b[0mt\u001b[0m\u001b[0;34m)\u001b[0m\u001b[0;34m:\u001b[0m\u001b[0;34m\u001b[0m\u001b[0;34m\u001b[0m\u001b[0m\n\u001b[0;32m--> 430\u001b[0;31m             \u001b[0;32mreturn\u001b[0m \u001b[0mt\u001b[0m\u001b[0;34m.\u001b[0m\u001b[0mto\u001b[0m\u001b[0;34m(\u001b[0m\u001b[0mdevice\u001b[0m\u001b[0;34m,\u001b[0m \u001b[0mdtype\u001b[0m \u001b[0;32mif\u001b[0m \u001b[0mt\u001b[0m\u001b[0;34m.\u001b[0m\u001b[0mis_floating_point\u001b[0m\u001b[0;34m(\u001b[0m\u001b[0;34m)\u001b[0m \u001b[0;32melse\u001b[0m \u001b[0;32mNone\u001b[0m\u001b[0;34m,\u001b[0m \u001b[0mnon_blocking\u001b[0m\u001b[0;34m)\u001b[0m\u001b[0;34m\u001b[0m\u001b[0;34m\u001b[0m\u001b[0m\n\u001b[0m\u001b[1;32m    431\u001b[0m \u001b[0;34m\u001b[0m\u001b[0m\n\u001b[1;32m    432\u001b[0m         \u001b[0;32mreturn\u001b[0m \u001b[0mself\u001b[0m\u001b[0;34m.\u001b[0m\u001b[0m_apply\u001b[0m\u001b[0;34m(\u001b[0m\u001b[0mconvert\u001b[0m\u001b[0;34m)\u001b[0m\u001b[0;34m\u001b[0m\u001b[0;34m\u001b[0m\u001b[0m\n",
      "\u001b[0;31mRuntimeError\u001b[0m: CUDA error: all CUDA-capable devices are busy or unavailable"
     ]
    }
   ],
   "source": [
    "# YOUR NEURAL NETWORK CODE\n",
    "\n",
    "import torch\n",
    "import torch.nn as nn\n",
    "import torch.nn.functional as F\n",
    "\n",
    "device = torch.device(\"cuda\" if torch.cuda.is_available() else \"cpu\")\n",
    "\n",
    "state_dim = cartpole.observation_space.shape[0]\n",
    "n_action = cartpole.action_space.n \n",
    "nb_neurons=24\n",
    "\n",
    "DQN = torch.nn.Sequential(nn.Linear(state_dim, nb_neurons),\n",
    "                          nn.ReLU(),\n",
    "                          nn.Linear(nb_neurons, nb_neurons),\n",
    "                          nn.ReLU(), \n",
    "                          nn.Linear(nb_neurons, n_action)).to(device)"
   ]
  },
  {
   "cell_type": "markdown",
   "metadata": {},
   "source": [
    "We're almost there. Now you can implement the algorithm that:\n",
    "- takes $\\epsilon$-greedy actions with respect to $Q$\n",
    "- stores samples in the replay buffer\n",
    "- at each interaction step with the environment, draws a mini-batch, computes the target values for each $(s,a)$ and takes a gradient step.\n",
    "- repeats\n",
    "\n",
    "<div class=\"alert alert-warning\">\n",
    "    \n",
    "**Exercice:** write this algorithm's pseudo-code, then proceed with your implementation, using the network and replay buffer you defined in the previous cells.\n",
    "</div>\n",
    "\n",
    "You can take inspiration from the algorithm on page 5 of [Playing Atari with Deep Reinforcement Learning](https://arxiv.org/abs/1312.5602).\n",
    "\n",
    "<div class=\"alert alert-danger\">\n",
    "    <a href=\"#DQNpseudocode\" data-toggle=\"collapse\"><b>Answer:</b></a><br>\n",
    "<div id=\"DQNpseudocode\" class=\"collapse\">\n",
    "\n",
    "         state = init()\n",
    "         loop:\n",
    "            action = greedy_action(DQN) or random_action()\n",
    "            new_state, reward = step(state, action)\n",
    "            replay_memory.add(state, action, reward, new_state)\n",
    "            minibatch = replay_memory.sample(minibatch_size)\n",
    "            X_train = Y_train = []\n",
    "            for (s,a,r,s') in minibatch:\n",
    "                Q  = DQN.predict(s)\n",
    "                Q' = DQN.predict(s')\n",
    "                if non-terminal(s'): \n",
    "                    update = r + gamma * max(Q')    \n",
    "                else:  \n",
    "                    update = r\n",
    "                Q[a] = update\n",
    "                X_train.add(s)\n",
    "                Y_train.add(Q)\n",
    "            DQN.train_one_step(X_train,Y_train)\n",
    "            state = new_state\n",
    "</div>\n",
    "</div>\n",
    "\n",
    "A common optimizer (instead of plain SGD) is RMSprop. But don't run this code just yet!"
   ]
  },
  {
   "cell_type": "code",
   "execution_count": 19,
   "metadata": {},
   "outputs": [],
   "source": [
    "# It will actually be useful to have separate torch.Tensor for the each element type in the sampled minibatch\n",
    "# Let's redefine the sample function of our replay buffer class\n",
    "from collections import deque\n",
    "import random\n",
    "\n",
    "class ReplayBuffer(object):\n",
    "    def __init__(self, capacity):\n",
    "        self.data = deque(maxlen=capacity)\n",
    "    def append(self, state, action, reward, next_state, done):\n",
    "        self.data.append((state, action, reward, next_state, done))\n",
    "    def sample(self, batch_size):\n",
    "        batch = random.sample(self.data, batch_size)\n",
    "        return list(map(torch.Tensor, list(zip(*batch))))\n",
    "    def __len__(self):\n",
    "        return len(self.data)\n",
    "    def capacity(self):\n",
    "        return self.data.maxlen"
   ]
  },
  {
   "cell_type": "code",
   "execution_count": 20,
   "metadata": {},
   "outputs": [],
   "source": [
    "# Let's define a utility function that gives us the greedy action from a DQN\n",
    "def greedy_action(network, state):\n",
    "    Q = network(torch.Tensor(state))\n",
    "    return torch.argmax(Q[0]).item()"
   ]
  },
  {
   "cell_type": "code",
   "execution_count": 25,
   "metadata": {},
   "outputs": [],
   "source": [
    "# YOUR DEEP Q LEARNING CODE\n",
    "\n",
    "config = {'observation_space': cartpole.observation_space.shape[0],\n",
    "          'nb_actions': cartpole.action_space.n,\n",
    "          'learning_rate': 0.001,\n",
    "          'gamma': 0.95,\n",
    "          'buffer_size': 1000000,\n",
    "          'batch_size': 20}\n",
    "\n",
    "class DQN_agent:\n",
    "    def __init__(self, config, model):\n",
    "        self.gamma = config['gamma']\n",
    "        self.batch_size = config['batch_size']\n",
    "        self.nb_actions = config['nb_actions']\n",
    "        self.memory = ReplayBuffer(config['buffer_size'])\n",
    "        self.total_steps = 0\n",
    "        self.model = model \n",
    "        self.criterion = torch.nn.MSELoss()\n",
    "        self.optimizer = torch.optim.RMSprop(self.model.parameters(), lr=config['learning_rate'])\n",
    "    \n",
    "    def gradient_step(self):\n",
    "        if len(self.memory) > self.batch_size:\n",
    "            X,A,R,Y,D = self.memory.sample(self.batch_size)\n",
    "            QX = self.model(X)\n",
    "            QY = self.model(Y).detach()\n",
    "            QYmax = torch.max(QY, axis=1)[0]\n",
    "            update = QX.detach()\n",
    "            A = A.to(torch.long)\n",
    "            update[torch.arange(self.batch_size), A] = torch.addcmul(R, self.gamma, 1-D, QYmax)\n",
    "            loss = self.criterion(QX, update)\n",
    "            self.optimizer.zero_grad()\n",
    "            loss.backward()\n",
    "            self.optimizer.step() \n",
    "\n",
    "    def train(self, env, max_episode):\n",
    "        episode_length = []\n",
    "        step = 0\n",
    "        episode = 0\n",
    "        episode_step = 0\n",
    "        state = env.reset()\n",
    "        while episode<max_episode:\n",
    "            # update epsilon\n",
    "            if step<1e6:\n",
    "                epsilon = 1.-step*9e-7\n",
    "            else:\n",
    "                epsilon = .1\n",
    "            # select epsilon-greedy action\n",
    "            if np.random.rand() < epsilon:\n",
    "                action = np.random.randint(self.nb_actions)\n",
    "            else:\n",
    "                action = greedy_action(self.model, state)\n",
    "            # step\n",
    "            next_state, reward, done, _ = env.step(action)\n",
    "            self.memory.append(state, action, reward, next_state, done)\n",
    "            # train\n",
    "            self.gradient_step()\n",
    "            # next transition\n",
    "            if done:\n",
    "                episode +=1\n",
    "                episode_length.append(episode_step)\n",
    "                #print(\"Episode\", episode, \", episode length\", episode_step)\n",
    "                state = env.reset()\n",
    "                episode_step = 0\n",
    "            else:\n",
    "                state = next_state\n",
    "                episode_step += 1\n",
    "            step += 1\n",
    "        return episode_length "
   ]
  },
  {
   "cell_type": "code",
   "execution_count": 27,
   "metadata": {},
   "outputs": [
    {
     "data": {
      "image/png": "[encoded data removed]",
      "text/plain": [
       "<Figure size 432x288 with 1 Axes>"
      ]
     },
     "metadata": {
      "needs_background": "light"
     },
     "output_type": "display_data"
    }
   ],
   "source": [
    "agent = DQN_agent(config, DQN)\n",
    "scores = agent.train(cartpole, 10)\n",
    "plt.plot(scores);"
   ]
  },
  {
   "cell_type": "code",
   "execution_count": 28,
   "metadata": {},
   "outputs": [
    {
     "name": "stdout",
     "output_type": "stream",
     "text": [
      "tensor([-0.0399, -0.1463], grad_fn=<AddBackward0>)\n",
      "tensor([-0.0399, -0.1463], grad_fn=<AddBackward0>)\n"
     ]
    }
   ],
   "source": [
    "x = cartpole.reset()\n",
    "print(DQN(torch.Tensor(x)))\n",
    "print(agent.model(torch.Tensor(x)))"
   ]
  },
  {
   "cell_type": "code",
   "execution_count": 29,
   "metadata": {},
   "outputs": [
    {
     "name": "stdout",
     "output_type": "stream",
     "text": [
      "9\n"
     ]
    }
   ],
   "source": [
    "x = cartpole.reset()\n",
    "cartpole.render()\n",
    "for i in range(1000):\n",
    "    a = greedy_action(DQN, x)\n",
    "    y, _, d, _ = cartpole.step(a)\n",
    "    cartpole.render()\n",
    "    x=y\n",
    "    if d:\n",
    "        print(i)\n",
    "        break\n",
    "\n",
    "cartpole.close()"
   ]
  },
  {
   "cell_type": "markdown",
   "metadata": {},
   "source": [
    "# <a id=sec5></a>Making DQN more efficient\n",
    "\n",
    "\n",
    "## <a id=sec5.1></a>Target network\n",
    "It appears the code above will (probably) slowly converge to $Q^*$ but this convergence might be unstable and noisy. This can be greatly improved by taking several gradient steps on a given loss function $L_n$ instead of changing the loss function at each time step.\n",
    "\n",
    "In practice, this is achieved by the introduction of a *target network* whose parameters are noted $\\theta^-$. This idea was introduced in the [Human-level control through deep reinforcement learning](https://deepmind.com/research/publications/human-level-control-through-deep-reinforcement-learning) paper. At any time step, the loss becomes:\n",
    "$$L(\\theta) = \\mathbb{E}_{s,a,r,s'} \\left[ \\left( r + \\gamma \\max_{a'} Q(s',a',\\theta^-) - Q(s,a;\\theta) \\right) ^2 \\right],$$\n",
    "and the target network parameters $\\theta^-$ are only updated with the Q-network parameters $\\theta_n$ every $C$ steps and are held fixed between individual updates.\n",
    "\n",
    "This process of accumulating several gradient steps into $\\theta_n$ before updating $\\theta^-$ draws our algorithm closer to a Value Iteration scheme (or a Fitted Q-Iteration scheme for that matter).\n",
    "\n",
    "Note that more recent approaches smooth out this accumulation process by defining soft updates of the form:\n",
    "$$\\theta^- \\leftarrow \\beta \\theta^- + (1-\\beta) \\theta_n.$$\n",
    "\n",
    "## <a id=sec5.2></a>Error clipping\n",
    "\n",
    "Another common pratice to stabilize learning is to clip the value of $r + \\gamma \\max_{a'} Q(s',a',\\theta^-) - Q(s,a;\\theta)$ between $-1$ and $1$. This is not such an uncommon trick, it actually amounts to using an L2 loss for values of the loss between $-1$ and $1$ and an L1 loss outside of this domain.\n",
    "\n",
    "<div class=\"alert alert-warning\">\n",
    "    \n",
    "**Exercice:** modify you code above to include a target network (with $C$ in the order of $100$) and the clipping of the error term. Then run it to learn an efficient policy for CartPole (then for SwingUp).\n",
    "</div>"
   ]
  },
  {
   "cell_type": "code",
   "execution_count": 30,
   "metadata": {},
   "outputs": [],
   "source": [
    "# YOUR IMPROVED DEEP Q LEARNING CODE\n",
    "from copy import deepcopy\n",
    "\n",
    "class DQN_agent:\n",
    "    def __init__(self, config, model):\n",
    "        self.gamma = config['gamma']\n",
    "        self.batch_size = config['batch_size']\n",
    "        self.nb_actions = config['nb_actions']\n",
    "        self.memory = ReplayBuffer(config['buffer_size'])\n",
    "        self.total_steps = 0\n",
    "        self.model = model \n",
    "        self.criterion = torch.nn.MSELoss()\n",
    "        self.optimizer = torch.optim.RMSprop(self.model.parameters(), lr=config['learning_rate'])\n",
    "        self.target_model = deepcopy(self.model).to(device) # NEW NEW NEW\n",
    "        self.update_target_freq = config['update_target_freq'] # NEW NEW NEW\n",
    "        \n",
    "    def gradient_step(self):\n",
    "        if len(self.memory) > self.batch_size:\n",
    "            X,A,R,Y,D = self.memory.sample(self.batch_size)\n",
    "            QX = self.model(X)\n",
    "            QY = self.target_model(Y).detach() # NEW NEW NEW\n",
    "            QYmax = torch.max(QY, axis=1)[0]\n",
    "            update = QX.detach()\n",
    "            A = A.to(torch.long)\n",
    "            update[torch.arange(self.batch_size), A] = torch.addcmul(R, self.gamma, 1-D, QYmax)\n",
    "            loss = self.criterion(QX, update)\n",
    "            self.optimizer.zero_grad()\n",
    "            loss.backward()\n",
    "            self.optimizer.step() \n",
    "\n",
    "    def train(self, env, max_episode):\n",
    "        episode_length = []\n",
    "        step = 0\n",
    "        episode = 0\n",
    "        episode_step = 0\n",
    "        state = env.reset()\n",
    "        while episode<max_episode:\n",
    "            # update epsilon\n",
    "            if step<1e6:\n",
    "                epsilon = 1.-step*9e-7\n",
    "            else:\n",
    "                epsilon = .1\n",
    "            # select epsilon-greedy action\n",
    "            if np.random.rand() < epsilon:\n",
    "                action = np.random.randint(self.nb_actions)\n",
    "            else:\n",
    "                action = greedy_action(self.model, state)\n",
    "            # step\n",
    "            next_state, reward, done, _ = env.step(action)\n",
    "            self.memory.append(state, action, reward, next_state, done)\n",
    "            # train\n",
    "            self.gradient_step()\n",
    "            # next transition\n",
    "            if done:\n",
    "                episode +=1\n",
    "                episode_length.append(episode_step)\n",
    "                #print(\"Episode\", episode, \", episode length\", episode_step)\n",
    "                state = env.reset()\n",
    "                episode_step = 0\n",
    "            else:\n",
    "                state = next_state\n",
    "                episode_step += 1\n",
    "            if step % self.update_target_freq == 0: # NEW NEW NEW\n",
    "                self.target_model.load_state_dict(self.model.state_dict())   \n",
    "            step += 1\n",
    "        return episode_length "
   ]
  },
  {
   "cell_type": "code",
   "execution_count": 33,
   "metadata": {},
   "outputs": [
    {
     "data": {
      "image/png": "[encoded data removed]",
      "text/plain": [
       "<Figure size 432x288 with 1 Axes>"
      ]
     },
     "metadata": {
      "needs_background": "light"
     },
     "output_type": "display_data"
    }
   ],
   "source": [
    "config = {'observation_space': cartpole.observation_space.shape[0],\n",
    "          'nb_actions': cartpole.action_space.n,\n",
    "          'learning_rate': 0.001,\n",
    "          'gamma': 0.95,\n",
    "          'buffer_size': 1000000,\n",
    "          'batch_size': 20,\n",
    "          'update_target_freq': 100}\n",
    "\n",
    "agent = DQN_agent(config, DQN)\n",
    "scores = agent.train(cartpole, 10)\n",
    "torch.save(DQN.state_dict(), \"cart_pole_dqn.pth\")\n",
    "plt.plot(scores);"
   ]
  },
  {
   "cell_type": "code",
   "execution_count": null,
   "metadata": {},
   "outputs": [],
   "source": [
    "DQN.load_state_dict(torch.load(\"cart_pole_dqn.pth\"))\n",
    "x = cartpole.reset()\n",
    "cartpole.render()\n",
    "for i in range(1000):\n",
    "    a = greedy_action(DQN, x)\n",
    "    y, _, d, _ = cartpole.step(a)\n",
    "    cartpole.render()\n",
    "    x=y\n",
    "    if d:\n",
    "        print(i)\n",
    "        break\n",
    "\n",
    "cartpole.close()"
   ]
  },
  {
   "cell_type": "markdown",
   "metadata": {},
   "source": [
    "# <a id=sec6></a>DQN on image-based tasks\n",
    "\n",
    "Now it's time to turn towards Pong. As you noted earlier, the frame information in Pong is not sufficient to define an MDP, but stacking several frames together allows to recover the Markov property.\n",
    "\n",
    "<div class=\"alert alert-warning\">\n",
    "    \n",
    "**Exercice:** modify your replay buffer to store stacks of 4 black-and-white images.\n",
    "</div>"
   ]
  },
  {
   "cell_type": "code",
   "execution_count": null,
   "metadata": {},
   "outputs": [],
   "source": [
    "# YOUR REPLAY BUFFER FOR PONG"
   ]
  },
  {
   "cell_type": "markdown",
   "metadata": {},
   "source": [
    "The two DQN papers ([Playing Atari with Deep Reinforcement Learning](https://arxiv.org/abs/1312.5602) and [Human-level control through deep reinforcement learning](https://deepmind.com/research/publications/human-level-control-through-deep-reinforcement-learning)) actually introduce two different neural network architectures.\n",
    "\n",
    "The 2013 paper uses this architecture:\n",
    "- input: $84\\times 84\\times 4$ image (the last 4 frames)\n",
    "- layer 1: Convolutions with 16 filters of size $8\\times 8$ and stride 4. The activation is a ReLU function.\n",
    "- layer 2: Convolutions with 32 filters of size $4\\times 4$ and stride 2. The activation is a ReLU function.\n",
    "- layer 3: Fully connected with 256 ReLU units\n",
    "- layer 4 (output): Fully connected with 2 linear units (one for each action's value)\n",
    "\n",
    "The 2015 paper \n",
    "- input: $84\\times 84\\times 4$ image (the last 4 frames)\n",
    "- layer 1: Convolutions with 32 filters of size $8\\times 8$ and stride 4. The activation is a ReLU function.\n",
    "- layer 2: Convolutions with 64 filters of size $4\\times 4$ and stride 2. The activation is a ReLU function.\n",
    "- layer 3: Convolutions with 64 filters of size $3\\times 3$ and stride 1. The activation is a ReLU function.\n",
    "- layer 4: Fully connected with 512 ReLU units\n",
    "- layer 5 (output): Fully connected with 2 linear units (one for each action's value)\n",
    "\n",
    "<div class=\"alert alert-warning\">\n",
    "    \n",
    "**Exercice:** Create the corresponding neural network and adapt your optimization code from the previous exercice to train on Pong (you can take $C$ much larger, in the order of $10000$).\n",
    "</div>\n",
    "Caveat: unless you have a GPU and a fair amount of time ahead of you, it is recommended to run this computation on a cloud computing service (or on a dediated machine)."
   ]
  },
  {
   "cell_type": "code",
   "execution_count": null,
   "metadata": {},
   "outputs": [],
   "source": [
    "# YOUR DQN CODE FOR PONG"
   ]
  },
  {
   "cell_type": "markdown",
   "metadata": {},
   "source": [
    "To give you an idea of the behavior of a trained agent, you can check the following videos."
   ]
  },
  {
   "cell_type": "code",
   "execution_count": null,
   "metadata": {},
   "outputs": [],
   "source": [
    "from IPython.display import YouTubeVideo\n",
    "YouTubeVideo(\"p88R2_3yWPA\")"
   ]
  },
  {
   "cell_type": "code",
   "execution_count": null,
   "metadata": {},
   "outputs": [],
   "source": [
    "YouTubeVideo(\"TmPfTpjtdgg\")"
   ]
  },
  {
   "cell_type": "markdown",
   "metadata": {},
   "source": [
    "# <a id=sec7></a>Going further\n",
    "\n",
    "A lot of contributions have built on the initial success of DQN. Among those, some are combined and discussed in the **[Rainbow: Combining Improvements in Deep Reinforcement Learning](https://arxiv.org/abs/1710.02298)** paper. We will simply summarize their key ideas here, by decreasing order of importance (according to the paper).\n",
    "\n",
    "- N-step returns. Use samples that accumulate several returns rather than the 1-step return of TD(0).\n",
    "- [Prioritized experience replay](https://arxiv.org/abs/1511.05952). Inspired by the model-based Prioritized Sweeping approach, bias the distribution used to sample mini-batches in order to present high residual samples to the optimizer. This accelerates the convergence in $L_\\infty$ norm.\n",
    "- [Distributional value functions](https://arxiv.org/abs/1707.06887). Instead of estimating $\\mathbb{E}(\\sum_t r_t)$, estimate the distribution of $\\sum_t r_t$ and iterate on it.\n",
    "- [NoisyNet](https://arxiv.org/abs/1706.10295). Instead of an $\\epsilon$-greedy exploration strategy, introduce noise in the network's parameters to drive the exploration.\n",
    "- [Dueling architecture](https://arxiv.org/abs/1511.06581). The neural network's architecture splits $Q$ into the estimation of a value $V(s)$ and an advantage $A(s,a)$ with shared first layers.\n",
    "- [Double Q-learning](https://arxiv.org/abs/1509.06461). Q-learning is prone to over-estimation of the true optimal Q function (especially in high variance environments). Double Q-learning aims at compensating this weakness by introducing an under-estimation mechanism based on a second Q function.\n",
    "\n",
    "Beyond these improvements, new work is published each year that lead to better understanding of the interplay between Deep Learning and RL."
   ]
  },
  {
   "cell_type": "code",
   "execution_count": null,
   "metadata": {},
   "outputs": [],
   "source": []
  }
 ],
 "metadata": {
  "kernelspec": {
   "display_name": "Python 3",
   "language": "python",
   "name": "python3"
  },
  "language_info": {
   "codemirror_mode": {
    "name": "ipython",
    "version": 3
   },
   "file_extension": ".py",
   "mimetype": "text/x-python",
   "name": "python",
   "nbconvert_exporter": "python",
   "pygments_lexer": "ipython3",
   "version": "3.7.3"
  }
 },
 "nbformat": 4,
 "nbformat_minor": 2
}
